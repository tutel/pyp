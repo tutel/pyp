{
 "cells": [
  {
   "cell_type": "markdown",
   "metadata": {},
   "source": [
    "# 1 發牌"
   ]
  },
  {
   "cell_type": "code",
   "execution_count": 1,
   "metadata": {},
   "outputs": [
    {
     "name": "stdout",
     "output_type": "stream",
     "text": [
      "開始洗牌....\n",
      "開始給player1發牌：\n",
      "\n",
      "♣8 , ♠10 , ♦6 , ♦8 , ♣3 , ♠4 , ♦4 , ♦5 , ♣9 , ♥7 , ♠K , ♦10 , ♦3 , None\n",
      "開始給player2發牌：\n",
      "\n",
      "♠8 , ♦Q , ♠J , ♥8 , ♠6 , ♥K , ♠A , ♦2 , ♥A , ♣K , ♣A , ♠5 , ♣10 , None\n",
      "開始給player3發牌：\n",
      "\n",
      "♦A , ♣Q , ♦K , ♠Q , ♦9 , ♣4 , ♠2 , ♥10 , ♥3 , ♦J , ♠3 , ♣J , ♦7 , None\n",
      "開始給player4發牌：\n",
      "\n",
      "♣6 , ♠7 , ♥Q , ♣2 , ♥9 , ♥4 , ♥5 , ♠9 , ♥J , ♥2 , ♣7 , ♣5 , ♥6 , None\n",
      "player1的牌：\n",
      "\n",
      "♥7 , ♠4 , ♠10 , ♠K , ♦3 , ♦4 , ♦5 , ♦6 , ♦8 , ♦10 , ♣3 , ♣8 , ♣9 , None\n",
      "player2的牌：\n",
      "\n",
      "♥A , ♥8 , ♥K , ♠A , ♠5 , ♠6 , ♠8 , ♠J , ♦2 , ♦Q , ♣A , ♣10 , ♣K , None\n",
      "player3的牌：\n",
      "\n",
      "♥3 , ♥10 , ♠2 , ♠3 , ♠Q , ♦A , ♦7 , ♦9 , ♦J , ♦K , ♣4 , ♣J , ♣Q , None\n",
      "player4的牌：\n",
      "\n",
      "♥2 , ♥4 , ♥5 , ♥6 , ♥9 , ♥J , ♥Q , ♠7 , ♠9 , ♣2 , ♣5 , ♣6 , ♣7 , None\n"
     ]
    }
   ],
   "source": [
    "import random\n",
    "import time\n",
    "A=['♥','♠','♦','♣']\n",
    "B=['A','2','3','4','5','6','7','8','9','10','J','Q','K']\n",
    "poker=[]\n",
    "pokers=[]\n",
    "n=1\n",
    "for i in A:\n",
    "    for j in B:\n",
    "         pokers.append((n,(i+j)))\n",
    "         n=n+1\n",
    "print(\"開始洗牌....\")\n",
    "random.shuffle(pokers)\n",
    "def xipai(x):\n",
    "    for i in x:\n",
    "        pokers.remove(i)\n",
    "    return pokers\n",
    "def fapai(y):\n",
    "    for i in y:\n",
    "        print(i[1],',',end=\" \")\n",
    "def paixu(z):\n",
    "    for i in z:\n",
    "        print(i[1],',',end=\" \")\n",
    "time.sleep(3)\n",
    "a=random.sample(pokers,13) \n",
    "pokers=xipai(a)   \n",
    "print(\"開始給player1發牌：\\n\")\n",
    "print(fapai(a))\n",
    "b=random.sample(pokers,13) \n",
    "pokers=xipai(b)   \n",
    "print(\"開始給player2發牌：\\n\")\n",
    "print(fapai(b))\n",
    "c=random.sample(pokers,13) \n",
    "pokers=xipai(c)   \n",
    "print(\"開始給player3發牌：\\n\")\n",
    "print(fapai(c))\n",
    "d=random.sample(pokers,13) \n",
    "pokers=xipai(d)   \n",
    "print(\"開始給player4發牌：\\n\")\n",
    "print(fapai(d))\n",
    "\n",
    "a.sort()\n",
    "b.sort()\n",
    "c.sort()\n",
    "d.sort()\n",
    "\n",
    "time.sleep(3)\n",
    "print(\"player1的牌：\\n\")\n",
    "print(paixu(a))\n",
    "print(\"player2的牌：\\n\")\n",
    "print(paixu(b))\n",
    "print(\"player3的牌：\\n\")\n",
    "print(paixu(c))\n",
    "print(\"player4的牌：\\n\")\n",
    "print(paixu(d))"
   ]
  },
  {
   "cell_type": "markdown",
   "metadata": {},
   "source": [
    "# 2 21點"
   ]
  },
  {
   "cell_type": "code",
   "execution_count": 2,
   "metadata": {},
   "outputs": [],
   "source": [
    "import random as rn\n",
    "import os "
   ]
  },
  {
   "cell_type": "code",
   "execution_count": 3,
   "metadata": {},
   "outputs": [
    {
     "name": "stdout",
     "output_type": "stream",
     "text": [
      "♥8 ♦8\n"
     ]
    }
   ],
   "source": [
    "c = ['♠A','♠2','♠3','♠4','♠5','♠6','♠7','♠8','♠9','♠10','♠J','♠Q','♠K',\n",
    "     '♥A','♥2','♥3','♥4','♥5','♥6','♥7','♥8','♥9','♥10','♥J','♥Q','♥K',\n",
    "     '♣A','♣2','♣3','♣4','♣5','♣6','♣7','♣8','♣9','♣10','♣J','♣Q','♣K',\n",
    "     '♦A','♦2','♦3','♦4','♦5','♦6','♦7','♦8','♦9','♦10','♦J','♦Q','♦K']\n",
    "\n",
    "a = rn.sample(list(range(0,52)),2)\n",
    "print(c[a[0]],c[a[1]])\n",
    "n = (a[0] + 1) % 13\n",
    "n1 = (a[1] + 1) % 13"
   ]
  },
  {
   "cell_type": "code",
   "execution_count": 4,
   "metadata": {},
   "outputs": [
    {
     "name": "stdout",
     "output_type": "stream",
     "text": [
      "16\n"
     ]
    }
   ],
   "source": [
    "if n == 1 :\n",
    "    if n1 == 11 or n1 == 12 or n1 == 0:\n",
    "        print(\"你拿了21點,你贏了\")\n",
    "    elif n1 == 1:\n",
    "        t1 = 2\n",
    "        t2 = 12\n",
    "        print(t1)\n",
    "        print(t2)\n",
    "    else:\n",
    "        t1 = 1 + n1\n",
    "        t2 = 11 + n1\n",
    "        print(t1)\n",
    "        print(t2)\n",
    "#第一張是A的情況\n",
    "\n",
    "elif n1 == 1 :\n",
    "    if n == 11 or n == 12 or n == 0:\n",
    "        print(\"你拿了21點,你贏了\")\n",
    "    elif n == 1:\n",
    "        t1 = 2\n",
    "        t2 = 12\n",
    "        print(t1)\n",
    "        print(t2)\n",
    "    else:\n",
    "        t1 = 1 + n\n",
    "        t2 = 11 + n\n",
    "        print(t1)\n",
    "        print(t2)\n",
    "#第二張是A的情況 \n",
    "\n",
    "elif (n == 11 or n == 12 or n == 0) and n1 != 1:\n",
    "    if n1 == 11 or n1 == 12 or n1 == 0:\n",
    "        t1 = 20\n",
    "        print(t1)\n",
    "    else:\n",
    "        n = 10\n",
    "        t1 = n + n1\n",
    "        print(t1)\n",
    "elif (n1 == 11 or n1 == 12 or n1 == 0) and n != 1:\n",
    "    if n == 11 or n == 12 or n == 0:\n",
    "        t1 = 20\n",
    "        print(t1)\n",
    "    else:\n",
    "        n1 = 10\n",
    "        t1 = n + n1\n",
    "        print(t1)\n",
    "else:\n",
    "    t1 =  n + n1\n",
    "    print(t1)"
   ]
  },
  {
   "cell_type": "code",
   "execution_count": 5,
   "metadata": {},
   "outputs": [
    {
     "name": "stdout",
     "output_type": "stream",
     "text": [
      "♦Q ♦K\n",
      "20\n",
      "還要不要牌?1j6ul4\n",
      "要牌打要,不要牌就打不要\n",
      "還要不要牌?不要\n",
      "你這次拿到了20點,you lose\n",
      "是否要再玩一次?是\n",
      "♥J ♠2\n",
      "12\n",
      "還要不要牌?要\n",
      "♣10\n",
      "22\n",
      "你拿超過21點了,你輸了\n",
      "是否要再玩一次?是\n",
      "♣10 ♠2\n",
      "12\n",
      "還要不要牌?要\n",
      "♦A\n",
      "13\n",
      "還要不要牌?要\n",
      "♦2\n",
      "15\n",
      "還要不要牌?要\n",
      "♦4\n",
      "19\n",
      "還要不要牌?要\n",
      "♠4\n",
      "23\n",
      "你拿超過21點了,你輸了\n",
      "是否要再玩一次?是\n",
      "♠6 ♦3\n",
      "9\n",
      "還要不要牌?要\n",
      "♥J\n",
      "19\n",
      "還要不要牌?要\n",
      "♣10\n",
      "29\n",
      "你拿超過21點了,你輸了\n",
      "是否要再玩一次?是\n",
      "♥3 ♣K\n",
      "13\n",
      "還要不要牌?要\n",
      "♦3\n",
      "16\n",
      "還要不要牌?要\n",
      "♣5\n",
      "你拿到21點了,你贏了\n",
      "是否要再玩一次?否\n"
     ]
    }
   ],
   "source": [
    "txt = \"重複玩判斷\"\n",
    "while txt != \"否\":\n",
    "    text = \"輸贏判斷\"\n",
    "    msg = \"給牌判斷\"\n",
    "    ch = \"\"\n",
    "    t1 = 0\n",
    "    t2 = 0\n",
    "    n3 = 0    \n",
    "    while text != \"lose\" and text != \"win\":\n",
    "        a = rn.sample(list(range(0,52)),2)\n",
    "        print(c[a[0]],c[a[1]])\n",
    "        n1 = (a[0] + 1) % 13\n",
    "        n2 = (a[1] + 1) % 13\n",
    "        #第一張是A的情況\n",
    "        if n1 == 1 :\n",
    "            if n2 == 11 or n2 == 12 or n2 == 0:\n",
    "                print(\"你拿了21點,你贏了\")\n",
    "                text = \"win\"\n",
    "            elif n2 == 1:\n",
    "                t1 = 2 \n",
    "                t2 = 12 \n",
    "                print(t1)\n",
    "                print(t2)\n",
    "            else:\n",
    "                t1 = 1 + n2\n",
    "                t2 = 11 + n2\n",
    "                print(t1)\n",
    "                print(t2)\n",
    "\n",
    "        #只有第二張是A的情況 \n",
    "        elif n2 == 1 :\n",
    "            if n1 == 11 or n1 == 12 or n1 == 0:\n",
    "                print(\"你拿了21點,你贏了\")\n",
    "                text = \"win\"\n",
    "            else:\n",
    "                t1 = 1 + n1\n",
    "                t2 = 11 + n1\n",
    "                print(t1)\n",
    "                print(t2)\n",
    "\n",
    "        #第一張是JQK的情況\n",
    "        elif (n1 == 11 or n1 == 12 or n1 == 0) and n2 != 1:\n",
    "            if n2 == 11 or n2 == 12 or n2 == 0:\n",
    "                t1 = 20 \n",
    "                print(t1)\n",
    "            else:\n",
    "                n1 = 10\n",
    "                t1 = n1 + n2     \n",
    "                print(t1)\n",
    "\n",
    "        #只有第二張是JQK的情況\n",
    "        elif (n2 == 11 or n2 == 12 or n2 == 0) and n1 != 1:\n",
    "            n2 = 10\n",
    "            t1 = n1 + n2 \n",
    "            print(t1)\n",
    "\n",
    "        #剩下的情況\n",
    "        else:\n",
    "            t1 =  n1 + n2 \n",
    "            print(t1)\n",
    "\n",
    "        while msg != \"不要\":\n",
    "        #再給牌    \n",
    "        \n",
    "            msg = input(\"還要不要牌?\")\n",
    "            if msg == \"要\":\n",
    "                ch = ' '\n",
    "                while ch != \"next\":\n",
    "                    b = rn.randint(0,51)\n",
    "                    #確定不重複的發牌\n",
    "                    if b == a[0] or b == a[1]:\n",
    "                        ch = \" \"\n",
    "                    else:\n",
    "                        ch = \"next\"\n",
    "                        print(c[b])\n",
    "                        #把牌加上去\n",
    "                        n3 = (b + 1) % 13\n",
    "                        #第三張以後的狀況\n",
    "                        #第三張是JQK\n",
    "                        if n3 == 0 or n3 == 11 or n3 == 12:\n",
    "                            n3 = 10\n",
    "                            if t2 != 0:#如果t2有被加過\n",
    "                                t1 = t1 + n3\n",
    "                                t2 = t2 + n3\n",
    "                            else:\n",
    "                                t1 = t1 + n3\n",
    "                        #第三張是A    \n",
    "                        elif n3 == 1:\n",
    "                            if t2 != 0:#如果t2有被加過\n",
    "                                t1 = t1 + 1\n",
    "                                t2 = t2 + 11\n",
    "                            else:\n",
    "                                t1 = t1 + 1\n",
    "                                t2 = t1 + 11\n",
    "                        else:\n",
    "                            if t2 != 0:#如果t2有被加過\n",
    "                                t1 = t1 + n3\n",
    "                                t2 = t2 + n3\n",
    "                            else:\n",
    "                                t1 = t1 + n3\n",
    "                        \n",
    "                if t2 != 0:#如果t2有被加過\n",
    "                    if t1 > 21:\n",
    "                        text = \"lose\"\n",
    "                        print(t1)\n",
    "                        print(t2)\n",
    "                        print(\"你拿超過21點了,你輸了\")\n",
    "                        break\n",
    "                    elif t1 < 21 and t2 > 21:\n",
    "                        t2 = 0\n",
    "                        print(t1)\n",
    "                        continue\n",
    "                    elif t1 == 21 :\n",
    "                        text = \"win\"\n",
    "                        print(t1)\n",
    "                        print('你拿到21點了,你贏了')\n",
    "                        break\n",
    "                    elif t2 == 21:\n",
    "                        text = \"win\"\n",
    "                        print(t2)\n",
    "                        print('你拿到21點了,你贏了')\n",
    "                        break\n",
    "                        \n",
    "                    else:\n",
    "                        print(t1)\n",
    "                        print(t2)\n",
    "                        continue\n",
    "                else:#t2沒被加過\n",
    "                    if t1 > 21:\n",
    "                        text = \"lose\"\n",
    "                        print(t1)\n",
    "                        print(\"你拿超過21點了,你輸了\")\n",
    "                        break\n",
    "                    elif t1 == 21:\n",
    "                        text = 'win'\n",
    "                        print('你拿到21點了,你贏了')\n",
    "                        break\n",
    "                    else:\n",
    "                        print(t1)\n",
    "                        continue\n",
    "            elif msg == \"不要\":\n",
    "                if t1 != 21 or t2 != 21:\n",
    "                    text = 'lose'\n",
    "                    print(f\"你這次拿到了{t1}點,you {text}\")\n",
    "                elif t1 == 21 :\n",
    "                    text = 'win'\n",
    "                    print(f\"你這次拿到了{t1}點,you {text}\")\n",
    "                    break\n",
    "                elif t2 == 21 :\n",
    "                    text = 'win'\n",
    "                    print(f\"你這次拿到了{t2}點,you {text}\")\n",
    "                    break\n",
    "            else:\n",
    "                print(\"要牌打要,不要牌就打不要\")\n",
    "    txt = input(\"是否要再玩一次?\")        \n",
    "    while txt != '是' and txt != '否' :      \n",
    "        txt = input(\"是否要再玩一次?(是或否)\")"
   ]
  },
  {
   "cell_type": "markdown",
   "metadata": {},
   "source": [
    "# 3 交換禮物"
   ]
  },
  {
   "cell_type": "code",
   "execution_count": 6,
   "metadata": {},
   "outputs": [],
   "source": [
    "import random as r\n",
    "import os"
   ]
  },
  {
   "cell_type": "code",
   "execution_count": 7,
   "metadata": {},
   "outputs": [
    {
     "name": "stdout",
     "output_type": "stream",
     "text": [
      "輸入有幾位玩家9\n"
     ]
    }
   ],
   "source": [
    "pl = input(\"輸入有幾位玩家\")\n",
    "pl = int(pl)\n"
   ]
  },
  {
   "cell_type": "code",
   "execution_count": 8,
   "metadata": {},
   "outputs": [],
   "source": [
    "give = list(range(1,pl+1))\n",
    "gift = list(range(1,pl+1))\n",
    "receive = list(range(1,pl+1))\n",
    "r.shuffle(give)\n",
    "r.shuffle(gift)\n",
    "r.shuffle(receive)"
   ]
  },
  {
   "cell_type": "code",
   "execution_count": 12,
   "metadata": {},
   "outputs": [
    {
     "name": "stdout",
     "output_type": "stream",
     "text": [
      "6號玩家請拿6號玩家給1玩家\n",
      "按任意鍵繼續\n",
      "4號玩家請拿7號玩家給7玩家\n",
      "按任意鍵繼續\n",
      "5號玩家請拿3號玩家給5玩家\n",
      "按任意鍵繼續\n",
      "3號玩家請拿1號玩家給3玩家\n",
      "按任意鍵繼續\n",
      "7號玩家請拿8號玩家給8玩家\n",
      "按任意鍵繼續\n",
      "2號玩家請拿4號玩家給2玩家\n",
      "按任意鍵繼續\n",
      "1號玩家請拿2號玩家給9玩家\n",
      "按任意鍵繼續\n",
      "9號玩家請拿9號玩家給6玩家\n",
      "按任意鍵繼續\n",
      "8號玩家請拿5號玩家給4玩家\n",
      "按任意鍵繼續\n"
     ]
    }
   ],
   "source": [
    "i = 0\n",
    "d = 0\n",
    "while d != 1:\n",
    "    for i in range(0,pl):\n",
    "        g = give[i]\n",
    "        gf = gift[i]\n",
    "        re = receive[i]\n",
    "        if g == r:\n",
    "            print(\"顆顆，幾號你這個聖誕邊緣人^_^\")\n",
    "            print(f\"請拿{gf}號禮物給你自己\")\n",
    "            print(\"按任意鍵繼續\")\n",
    "            os.system(\"pause\")\n",
    "        else:\n",
    "            print(f\"{g}號玩家請拿{gf}號玩家給{re}玩家\")\n",
    "            print(\"按任意鍵繼續\")\n",
    "            os.system(\"pause\")\n",
    "    d = d+1"
   ]
  },
  {
   "cell_type": "markdown",
   "metadata": {},
   "source": [
    "# 4 Turtle"
   ]
  },
  {
   "cell_type": "code",
   "execution_count": 13,
   "metadata": {},
   "outputs": [],
   "source": [
    "%matplotlib inline\n",
    "import numpy as np \n",
    "import pandas as pd\n",
    "import matplotlib.pyplot as plt\n",
    "import turtle as tu"
   ]
  },
  {
   "cell_type": "code",
   "execution_count": 14,
   "metadata": {},
   "outputs": [],
   "source": [
    "tu.showturtle()\n",
    "tu.forward(150)\n",
    "tu.left(90)\n",
    "tu.forward(150)\n",
    "tu.left(90)\n",
    "tu.forward(150)\n",
    "tu.left(90)\n",
    "tu.forward(150)\n",
    "tu.done()\n"
   ]
  },
  {
   "cell_type": "markdown",
   "metadata": {},
   "source": [
    "# 5 彩券"
   ]
  },
  {
   "cell_type": "code",
   "execution_count": 25,
   "metadata": {},
   "outputs": [
    {
     "name": "stdout",
     "output_type": "stream",
     "text": [
      "發票?有幾位數字9\n",
      "輸入中獎號碼9位1236555\n",
      "錯誤，重新輸入中獎號碼9位123546978\n"
     ]
    }
   ],
   "source": [
    "x = int(input(\"發票?有幾位數字\"))\n",
    "a = input(f\"輸入中獎號碼{x}位\")\n",
    "while len(a) != x:\n",
    "    a = input(f\"錯誤，重新輸入中獎號碼{x}位\")\n",
    "m1 = 200000\n",
    "m2 = 10000\n",
    "m3 = 4000\n",
    "m4 = 1000"
   ]
  },
  {
   "cell_type": "code",
   "execution_count": 26,
   "metadata": {},
   "outputs": [
    {
     "name": "stdout",
     "output_type": "stream",
     "text": [
      "輸入發票9碼789564132\n",
      "沒中\n",
      "是否繼續輸入(Y/N)y\n",
      "是否繼續輸入(Y/N)n\n",
      "是否繼續輸入(Y/N)Y\n",
      "輸入發票9碼123456789\n",
      "沒中\n",
      "是否繼續輸入(Y/N)N\n"
     ]
    }
   ],
   "source": [
    "while text != 'N':    \n",
    "    b = input(f'輸入發票{x}碼')\n",
    "\n",
    "    if a == b:\n",
    "        y = '頭'\n",
    "        print(f'恭喜中{y}獎，獎金{m1}元')\n",
    "    elif a[1:] == b[1:]:\n",
    "        y = '貳'\n",
    "        print(f'恭喜中{y}獎，獎金{m2}元')\n",
    "    elif a[2:] == b[2:]:\n",
    "        y = '參'\n",
    "        print(f'恭喜中{y}獎，獎金{m3}元')\n",
    "    elif a[3:] == b[3:]:\n",
    "        y = '肆'\n",
    "        print(f'恭喜中{y}獎，獎金{m4}元')\n",
    "    else :\n",
    "        print('沒中')\n",
    "    text = input('是否繼續輸入(Y/N)')\n",
    "    while text != 'N'and text != \"Y\":\n",
    "        text = input('是否繼續輸入(Y/N)')"
   ]
  },
  {
   "cell_type": "markdown",
   "metadata": {},
   "source": [
    "# 6 抄報告湊字數"
   ]
  },
  {
   "cell_type": "code",
   "execution_count": 28,
   "metadata": {},
   "outputs": [
    {
     "name": "stdout",
     "output_type": "stream",
     "text": [
      "這篇文章的字數是37\n",
      "想查甚麼的出現次數單字?(沒有要查詢可直接按_略過)\n",
      "you\n",
      "you共出現16次\n"
     ]
    }
   ],
   "source": [
    "file_reading=open('writing.txt', 'r', encoding='utf-8')\n",
    "vocab_lines=file_reading.readlines()\n",
    "file_reading.close()\n",
    "\n",
    "vocab=[]\n",
    "for line in vocab_lines:\n",
    "    per_vocab = line.split()\n",
    "    for word in per_vocab:\n",
    "        vocab.append(word)\n",
    "\n",
    "print('這篇文章的字數是'+str(len(vocab)))\n",
    "\n",
    "n = 0\n",
    "search = input(\"想查甚麼的出現次數單字?(沒有要查詢可直接按_略過)\\n\")\n",
    "if search!= '_':\n",
    "    for word in vocab:\n",
    "        n += word.lower().count(search)\n",
    "    print(search+'共出現'+str(n)+'次')"
   ]
  },
  {
   "cell_type": "code",
   "execution_count": 24,
   "metadata": {},
   "outputs": [
    {
     "data": {
      "text/plain": [
       "5"
      ]
     },
     "execution_count": 24,
     "metadata": {},
     "output_type": "execute_result"
    }
   ],
   "source": [
    "len('12345')"
   ]
  },
  {
   "cell_type": "code",
   "execution_count": null,
   "metadata": {},
   "outputs": [],
   "source": []
  }
 ],
 "metadata": {
  "kernelspec": {
   "display_name": "Python 3",
   "language": "python",
   "name": "python3"
  },
  "language_info": {
   "codemirror_mode": {
    "name": "ipython",
    "version": 3
   },
   "file_extension": ".py",
   "mimetype": "text/x-python",
   "name": "python",
   "nbconvert_exporter": "python",
   "pygments_lexer": "ipython3",
   "version": "3.7.6"
  }
 },
 "nbformat": 4,
 "nbformat_minor": 4
}
